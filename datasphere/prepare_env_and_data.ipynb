{
 "cells": [
  {
   "cell_type": "code",
   "execution_count": null,
   "id": "b181faca",
   "metadata": {
    "cellId": "27rva5li3b10pr03vxn97qe"
   },
   "outputs": [],
   "source": [
    "# сменим рабочую директорию на корневую\n",
    "%cd .."
   ]
  },
  {
   "cell_type": "code",
   "execution_count": 71,
   "id": "d1d4a930",
   "metadata": {
    "cellId": "4tk1lr4tnste4hrq39tz"
   },
   "outputs": [
    {
     "name": "stderr",
     "output_type": "stream",
     "text": [
      "Cloning into 'BasicSR'...\n",
      "Cloning into 'Real-ESRGAN'...\n",
      "Cloning into 'ResShift'...\n",
      "Updating files: 100% (312/312), done.\n",
      "Cloning into 'EMT'...\n"
     ]
    }
   ],
   "source": [
    "# submodules нужно скачать вручную, иначе падает с ошибкой\n",
    "!cd submodules/ && \\\n",
    "    git clone https://github.com/Pe4enIks/BasicSR.git && \\\n",
    "    mv BasicSR basicsr && \\\n",
    "    git clone https://github.com/Pe4enIks/Real-ESRGAN.git && \\\n",
    "    mv Real-ESRGAN real-esrgan && \\\n",
    "    git clone https://github.com/Pe4enIks/ResShift && \\\n",
    "    mv ResShift resshift && \\\n",
    "    git clone https://github.com/Pe4enIks/EMT && \\\n",
    "    mv EMT emt"
   ]
  },
  {
   "cell_type": "code",
   "execution_count": null,
   "id": "471a2fbd",
   "metadata": {
    "cellId": "81f4j48fhblnooslozm9"
   },
   "outputs": [],
   "source": [
    "# зависимости берем из requirements.txt, потому что через poetry нет возможности\n",
    "%pip install -r requirements.txt"
   ]
  },
  {
   "cell_type": "code",
   "execution_count": null,
   "id": "3db6f444",
   "metadata": {
    "cellId": "of0cwzha2jrgzu2d0mrc"
   },
   "outputs": [],
   "source": [
    "# скрипт скачивания весов с yandex disk\n",
    "import io\n",
    "import os.path\n",
    "import zipfile\n",
    "from pathlib import Path\n",
    "from urllib.parse import urlencode\n",
    "\n",
    "import requests\n",
    "\n",
    "\n",
    "def download_file(pk: str, local_name: str, src_type: str) -> None:\n",
    "    \"\"\"\n",
    "    Скачивание единицы данных через API Yandex Disk.\n",
    "\n",
    "    Parameters\n",
    "    ----------\n",
    "    pk : str\n",
    "        Публичная ссылка на папку / файл на диске.\n",
    "    local_name : str\n",
    "        Путь для сохранения папки / путь к расположению файла (с именем файла).\n",
    "    src_type : str\n",
    "        Тип источника, folder / file.\n",
    "\n",
    "    Returns\n",
    "    -------\n",
    "    None\n",
    "    \"\"\"\n",
    "    base_url = \"https://cloud-api.yandex.net/v1/disk/public/resources/download?\"\n",
    "\n",
    "    final_url = base_url + urlencode(dict(public_key=pk))\n",
    "    response = requests.get(final_url)\n",
    "    download_url = response.json()[\"href\"]\n",
    "\n",
    "    download_response = requests.get(download_url)\n",
    "    if src_type == \"file\":\n",
    "        with open(local_name, \"wb\") as f:\n",
    "            f.write(download_response.content)\n",
    "            print(f\"File {local_name} downloaded\")\n",
    "    elif src_type == \"folder\":\n",
    "        zip_file = zipfile.ZipFile(io.BytesIO(download_response.content))\n",
    "        zip_file.extractall(local_name)\n",
    "        print(\"Folder downloaded\")\n",
    "\n",
    "\n",
    "def download(download_source: str, save_folder: str) -> None:\n",
    "    \"\"\"\n",
    "    Скачивание данных через API Yandex Disk.\n",
    "\n",
    "    Parameters\n",
    "    ----------\n",
    "    download_source : str\n",
    "        Url к скачиваемому источнику.\n",
    "    save_folder : str\n",
    "        Путь к папке для сохранения папки с Yandex Disk.\n",
    "\n",
    "    Returns\n",
    "    -------\n",
    "    None\n",
    "    \"\"\"\n",
    "    if save_folder:\n",
    "        save_folder = Path(save_folder)\n",
    "        os.makedirs(save_folder, exist_ok=True)\n",
    "    else:\n",
    "        save_folder = Path.cwd().parent\n",
    "\n",
    "    files = {\n",
    "        save_folder: (download_source, \"folder\"),\n",
    "    }\n",
    "\n",
    "    print(f\"Will be downloaded {len(files)} sources\")\n",
    "    for name, (src_link, src_type) in files.items():\n",
    "        download_file(src_link, str(name), src_type)\n",
    "\n",
    "\n",
    "download(\"https://disk.yandex.ru/d/P1w6Tis0cjoclQ\", \"dvc_data\")\n",
    "download(\"https://disk.yandex.ru/d/csDaOUeCKxQk7g\", \"dvc_data\")"
   ]
  },
  {
   "cell_type": "code",
   "execution_count": 61,
   "id": "e6f859c4",
   "metadata": {
    "cellId": "hq25hbef58tp9c3urtoq"
   },
   "outputs": [
    {
     "data": {
      "application/vnd.jupyter.widget-view+json": {
       "model_id": "2f5cade922a6490ab60769d096029362",
       "version_major": 2,
       "version_minor": 0
      },
      "text/plain": [
       "VBox(children=(HTML(value='<center> <img\\nsrc=https://huggingface.co/front/assets/huggingface_logo-noborder.sv…"
      ]
     },
     "metadata": {},
     "output_type": "display_data"
    }
   ],
   "source": [
    "# для возможности получить доступ к приватному репозиторию huggingface\n",
    "import huggingface_hub as hf_hub\n",
    "\n",
    "hf_hub.login()"
   ]
  },
  {
   "cell_type": "code",
   "execution_count": null,
   "id": "dc73c8e1",
   "metadata": {
    "cellId": "oq9qvgfi82j6ybyt5txi1f",
    "execution_id": "0675a7c5-c4c7-474d-95a7-ffa36a3028f2"
   },
   "outputs": [],
   "source": [
    "# скачаем необходимые данные через huggingface api\n",
    "!mkdir -p \"datasets/tmp\"\n",
    "\n",
    "hf_hub.snapshot_download(\n",
    "    repo_id=\"epishchik/super-resolution-games\",\n",
    "    repo_type=\"dataset\",\n",
    "    local_dir=\"datasets/tmp\",\n",
    "    cache_dir=\"hf_cache\",\n",
    "    local_dir_use_symlinks=True,\n",
    "    allow_patterns=[\n",
    "        \"data/GameEngineData/*270p.tar.gz\",\n",
    "        \"data/GameEngineData/*1080p.tar.gz\",\n",
    "    ],\n",
    ")"
   ]
  },
  {
   "cell_type": "code",
   "execution_count": null,
   "id": "c3272cfb",
   "metadata": {
    "cellId": "aejr0dcg65mibi8oedexc"
   },
   "outputs": [],
   "source": [
    "# скрипт формирования датасета в нужном формате\n",
    "!cd utils && bash create_local_dataset.sh \\\n",
    "    /home/jupyter/work/resources/SR-Gaming-Bench/datasets \\\n",
    "    GameEngineData \\\n",
    "    270p \\\n",
    "    1080p \\\n",
    "    false"
   ]
  }
 ],
 "metadata": {
  "language_info": {
   "codemirror_mode": {
    "name": "ipython",
    "version": 3
   },
   "file_extension": ".py",
   "mimetype": "text/x-python",
   "name": "python",
   "nbconvert_exporter": "python",
   "pygments_lexer": "ipython3",
   "version": "3.7.7"
  },
  "notebookId": "53c53985-9566-43b0-8dfe-790f3f063eeb",
  "notebookPath": "SR-Gaming-Bench/datasphere/prepare_env_and_data.ipynb"
 },
 "nbformat": 4,
 "nbformat_minor": 5
}
