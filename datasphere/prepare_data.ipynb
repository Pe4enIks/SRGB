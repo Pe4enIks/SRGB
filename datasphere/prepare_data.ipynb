{
 "cells": [
  {
   "cell_type": "code",
   "execution_count": 17,
   "id": "c23bd4d1",
   "metadata": {
    "cellId": "27rva5li3b10pr03vxn97qe"
   },
   "outputs": [
    {
     "name": "stdout",
     "output_type": "stream",
     "text": [
      "/home/jupyter/work/resources/SR-Gaming-Bench\n"
     ]
    }
   ],
   "source": [
    "# сменим рабочую директорию на корневую\n",
    "%cd ..\n",
    "!pwd"
   ]
  },
  {
   "cell_type": "code",
   "execution_count": 14,
   "id": "9e791736",
   "metadata": {
    "cellId": "4tk1lr4tnste4hrq39tz"
   },
   "outputs": [
    {
     "name": "stderr",
     "output_type": "stream",
     "text": [
      "Cloning into 'BasicSR'...\n",
      "Cloning into 'Real-ESRGAN'...\n",
      "Cloning into 'ResShift'...\n",
      "Updating files: 100% (312/312), done.\n"
     ]
    }
   ],
   "source": [
    "# submodules нужно скачать вручную, иначе падает с ошибкой\n",
    "!cd submodules/ && \\\n",
    "    git clone https://github.com/Pe4enIks/BasicSR.git && \\\n",
    "    mv BasicSR basicsr && \\\n",
    "    git clone https://github.com/Pe4enIks/Real-ESRGAN.git && \\\n",
    "    mv Real-ESRGAN real-esrgan && \\\n",
    "    git clone https://github.com/Pe4enIks/ResShift && \\\n",
    "    mv ResShift resshift"
   ]
  },
  {
   "cell_type": "code",
   "execution_count": null,
   "id": "a2ad907b",
   "metadata": {
    "cellId": "81f4j48fhblnooslozm9"
   },
   "outputs": [],
   "source": [
    "# зависимости берем из requirements.txt, потому что через poetry нет возможности\n",
    "%pip install -r requirements.txt"
   ]
  },
  {
   "cell_type": "code",
   "execution_count": 38,
   "id": "caaeaf09",
   "metadata": {
    "cellId": "e1tosa6g3m28i6sk8ct1m"
   },
   "outputs": [],
   "source": [
    "# dvc pull не сработает, поэтому создадим нужные папки и выкачаем веса с yandex disk\n",
    "!mkdir -p dvc_data/weights/real-esrgan"
   ]
  },
  {
   "cell_type": "code",
   "execution_count": 39,
   "id": "c041331a",
   "metadata": {
    "cellId": "of0cwzha2jrgzu2d0mrc"
   },
   "outputs": [
    {
     "name": "stdout",
     "output_type": "stream",
     "text": [
      "Will be download 2 files\n",
      "dvc_data/weights/real-esrgan/RealESRGAN_x4plus_netD.pth downloading in progress\n",
      "File dvc_data/weights/real-esrgan/RealESRGAN_x4plus_netD.pth downloaded\n",
      "dvc_data/weights/real-esrgan/RealESRGAN_x4plus_netD.pth downloaded\n",
      "dvc_data/weights/real-esrgan/RealESRNet_x4plus.pth downloading in progress\n",
      "File dvc_data/weights/real-esrgan/RealESRNet_x4plus.pth downloaded\n",
      "dvc_data/weights/real-esrgan/RealESRNet_x4plus.pth downloaded\n"
     ]
    }
   ],
   "source": [
    "# скрипт скачивания весов с yandex disk\n",
    "from urllib.parse import urlencode\n",
    "\n",
    "import requests\n",
    "\n",
    "\n",
    "def download_file(pk, local_name):\n",
    "    base_url = \"https://cloud-api.yandex.net/v1/disk/public/resources/download?\"\n",
    "\n",
    "    final_url = base_url + urlencode(dict(public_key=pk))\n",
    "    response = requests.get(final_url)\n",
    "    download_url = response.json()[\"href\"]\n",
    "\n",
    "    download_response = requests.get(download_url)\n",
    "    with open(local_name, \"wb\") as f:\n",
    "        f.write(download_response.content)\n",
    "        print(f\"File {local_name} downloaded\")\n",
    "\n",
    "\n",
    "files = {\n",
    "    \"dvc_data/weights/real-esrgan/RealESRGAN_x4plus_netD.pth\": \"5KqCavy3QNqK9w\",\n",
    "    \"dvc_data/weights/real-esrgan/RealESRNet_x4plus.pth\": \"IGcPWnlJoalrKw\",\n",
    "}\n",
    "\n",
    "\n",
    "print(f\"Will be download {len(files)} files\")\n",
    "for filename, file_id in files.items():\n",
    "    link = f\"https://disk.yandex.ru/d/{file_id}\"\n",
    "    print(f\"{filename} downloading in progress\")\n",
    "    download_file(link, filename)\n",
    "    print(f\"{filename} downloaded\")"
   ]
  },
  {
   "cell_type": "code",
   "execution_count": 61,
   "id": "72096990",
   "metadata": {
    "cellId": "hq25hbef58tp9c3urtoq"
   },
   "outputs": [
    {
     "data": {
      "application/vnd.jupyter.widget-view+json": {
       "model_id": "2f5cade922a6490ab60769d096029362",
       "version_major": 2,
       "version_minor": 0
      },
      "text/plain": [
       "VBox(children=(HTML(value='<center> <img\\nsrc=https://huggingface.co/front/assets/huggingface_logo-noborder.sv…"
      ]
     },
     "metadata": {},
     "output_type": "display_data"
    }
   ],
   "source": [
    "# для возможности получить доступ к приватному репозиторию huggingface\n",
    "import huggingface_hub as hf_hub\n",
    "\n",
    "hf_hub.login()"
   ]
  },
  {
   "cell_type": "code",
   "execution_count": null,
   "id": "b50b8769",
   "metadata": {
    "cellId": "oq9qvgfi82j6ybyt5txi1f",
    "execution_id": "0675a7c5-c4c7-474d-95a7-ffa36a3028f2"
   },
   "outputs": [],
   "source": [
    "# скачаем необходимые данные через huggingface api\n",
    "!mkdir -p \"datasets/tmp\"\n",
    "\n",
    "hf_hub.snapshot_download(\n",
    "    repo_id=\"epishchik/super-resolution-games\",\n",
    "    repo_type=\"dataset\",\n",
    "    local_dir=\"datasets/tmp\",\n",
    "    cache_dir=\"hf_cache\",\n",
    "    local_dir_use_symlinks=True,\n",
    "    allow_patterns=[\n",
    "        \"data/GameEngineData/*270p.tar.gz\",\n",
    "        \"data/GameEngineData/*1080p.tar.gz\",\n",
    "    ],\n",
    ")"
   ]
  },
  {
   "cell_type": "code",
   "execution_count": null,
   "id": "eb95e564",
   "metadata": {},
   "outputs": [],
   "source": [
    "# скрипт формирования датасета в нужном формате\n",
    "!cd utils && bash create_local_dataset.sh \\\n",
    "    /home/jupyter/work/resources/SR-Gaming-Bench/datasets \\\n",
    "    GameEngineData \\\n",
    "    270p \\\n",
    "    1080p \\\n",
    "    false"
   ]
  }
 ],
 "metadata": {
  "language_info": {
   "codemirror_mode": {
    "name": "ipython",
    "version": 3
   },
   "file_extension": ".py",
   "mimetype": "text/x-python",
   "name": "python",
   "nbconvert_exporter": "python",
   "pygments_lexer": "ipython3",
   "version": "3.7.7"
  },
  "notebookId": "37686551-d506-4462-8593-d1c22b2527f2",
  "notebookPath": "SR-Gaming-Bench/train/datasphere.ipynb"
 },
 "nbformat": 4,
 "nbformat_minor": 5
}
