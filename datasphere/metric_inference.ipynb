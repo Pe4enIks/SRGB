{
 "cells": [
  {
   "cell_type": "code",
   "execution_count": 115,
   "id": "72ac4528",
   "metadata": {
    "cellId": "b5lh17y8ricq387yg5axpg"
   },
   "outputs": [
    {
     "name": "stdout",
     "output_type": "stream",
     "text": [
      "/home/jupyter/work/resources/SR-Gaming-Bench/metric\n"
     ]
    }
   ],
   "source": [
    "%cd ../metric"
   ]
  },
  {
   "cell_type": "code",
   "execution_count": null,
   "id": "1448c0eb",
   "metadata": {
    "cellId": "0pddjkj8rmo910e7hu9h636"
   },
   "outputs": [],
   "source": [
    "from pathlib import Path\n",
    "\n",
    "import huggingface_hub as hf_hub\n",
    "from metric_inference import calculate_metrics\n",
    "\n",
    "hf_hub.login()"
   ]
  },
  {
   "cell_type": "code",
   "execution_count": 112,
   "id": "e7785a1c",
   "metadata": {
    "cellId": "wd6bylut00jih7a92xdsz"
   },
   "outputs": [],
   "source": [
    "model_config = \"ResShift_RealSRx4\"\n",
    "model_type = \"pretrained\"\n",
    "dataset_name = \"AllProjects\"\n",
    "dataset_type = \"game_engine\"\n",
    "split = \"val\"\n",
    "lr = \"r270p\"\n",
    "hr = \"r1080p\"\n",
    "metrics_device = \"cuda\"\n",
    "backend = \"torch\"\n",
    "only_time = False"
   ]
  },
  {
   "cell_type": "code",
   "execution_count": null,
   "id": "657a2d47",
   "metadata": {
    "cellId": "sose32626girl4tqckebrb"
   },
   "outputs": [],
   "source": [
    "root = Path.cwd().parent\n",
    "calculate_metrics(\n",
    "    root,\n",
    "    model_config,\n",
    "    model_type,\n",
    "    dataset_name,\n",
    "    dataset_type,\n",
    "    split,\n",
    "    lr,\n",
    "    hr,\n",
    "    metrics_device,\n",
    "    backend,\n",
    "    None,\n",
    "    None,\n",
    "    None,\n",
    "    False,\n",
    "    None,\n",
    "    only_time,\n",
    ")"
   ]
  },
  {
   "cell_type": "code",
   "execution_count": null,
   "id": "89be7102",
   "metadata": {
    "cellId": "pdw2bn3iirnnnirig31ks8"
   },
   "outputs": [],
   "source": []
  }
 ],
 "metadata": {
  "language_info": {
   "codemirror_mode": {
    "name": "ipython",
    "version": 3
   },
   "file_extension": ".py",
   "mimetype": "text/x-python",
   "name": "python",
   "nbconvert_exporter": "python",
   "pygments_lexer": "ipython3",
   "version": "3.7.7"
  },
  "notebookId": "9323dc43-bf9c-41c3-9666-affc6674cfc3",
  "notebookPath": "SR-Gaming-Bench/datasphere/Untitled.ipynb"
 },
 "nbformat": 4,
 "nbformat_minor": 5
}
